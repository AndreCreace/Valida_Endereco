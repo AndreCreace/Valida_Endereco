{
 "cells": [
  {
   "cell_type": "markdown",
   "id": "1b2adf94",
   "metadata": {},
   "source": [
    "# Search Postal Address Code - DAEV\n",
    "\n",
    "#### This notebook search for teh corrects address by consuming the post office API."
   ]
  },
  {
   "cell_type": "code",
   "execution_count": 16,
   "id": "4b3f1761",
   "metadata": {},
   "outputs": [],
   "source": [
    "# Let´s import the libraries\n",
    "import pandas as pd\n",
    "import numpy as np\n",
    "\n",
    "# Library to work with exceptions\n",
    "import logging"
   ]
  },
  {
   "cell_type": "code",
   "execution_count": 17,
   "id": "c640c5d9",
   "metadata": {},
   "outputs": [],
   "source": [
    "# Let´s import ours functions\n",
    "%run generalFunctions.ipynb"
   ]
  },
  {
   "cell_type": "code",
   "execution_count": 18,
   "id": "a6ce7244",
   "metadata": {},
   "outputs": [],
   "source": [
    "# let´s configurate the data frame display properties\n",
    "pd.options.display.max_columns = None\n",
    "pd.options.display.max_rows = None"
   ]
  },
  {
   "cell_type": "code",
   "execution_count": 19,
   "id": "1fec68d3",
   "metadata": {},
   "outputs": [],
   "source": [
    "# let´s create a dataFrame basead in csv file\n",
    "df_address = pd.read_csv(\"dataIn/Layout_CEP_nova.csv\", encoding = \"ISO-8859-1\", sep = \";\", header = 0)"
   ]
  },
  {
   "cell_type": "code",
   "execution_count": 20,
   "id": "f78ee155",
   "metadata": {},
   "outputs": [],
   "source": [
    "# Let´s transform the column cep in string\n",
    "df_address['cep'] = df_address['cep'].astype(str)"
   ]
  },
  {
   "cell_type": "code",
   "execution_count": 21,
   "id": "5b1ec4e4",
   "metadata": {},
   "outputs": [
    {
     "data": {
      "text/plain": [
       "(18, 7)"
      ]
     },
     "execution_count": 21,
     "metadata": {},
     "output_type": "execute_result"
    }
   ],
   "source": [
    "# Let´s see the our dataframe shape\n",
    "df_address.shape"
   ]
  },
  {
   "cell_type": "code",
   "execution_count": 22,
   "id": "4553ae10",
   "metadata": {
    "scrolled": true
   },
   "outputs": [],
   "source": [
    "# Let´s see our datafrme\n",
    "df_address[\"newCEP\"] = \"\"\n",
    "df_address[\"newLogradouro\"] = \"\"\n",
    "df_address[\"newComplemento\"] = \"\"\n",
    "df_address[\"newBairro\"] = \"\"\n",
    "df_address[\"newCidade\"] = \"\"\n",
    "df_address[\"newEstado\"] = \"\"\n",
    "df_address[\"newStatus\"] = \"\"\n",
    "df_address[\"newMessage\"] = \"\""
   ]
  },
  {
   "cell_type": "code",
   "execution_count": 23,
   "id": "b4302826",
   "metadata": {},
   "outputs": [
    {
     "data": {
      "text/plain": [
       "(18, 15)"
      ]
     },
     "execution_count": 23,
     "metadata": {},
     "output_type": "execute_result"
    }
   ],
   "source": [
    "# Let´s see the our dataframe shape\n",
    "df_address.shape"
   ]
  },
  {
   "cell_type": "code",
   "execution_count": 24,
   "id": "4b4b1677",
   "metadata": {},
   "outputs": [
    {
     "name": "stderr",
     "output_type": "stream",
     "text": [
      "<ipython-input-24-8df2be7a3e15>:71: SettingWithCopyWarning: \n",
      "A value is trying to be set on a copy of a slice from a DataFrame\n",
      "\n",
      "See the caveats in the documentation: https://pandas.pydata.org/pandas-docs/stable/user_guide/indexing.html#returning-a-view-versus-a-copy\n",
      "  df_address[\"newCEP\"][i] = fnc_AdjustCepBody(pageRequestGetAdress[0][\"cep\"])\n",
      "<ipython-input-24-8df2be7a3e15>:72: SettingWithCopyWarning: \n",
      "A value is trying to be set on a copy of a slice from a DataFrame\n",
      "\n",
      "See the caveats in the documentation: https://pandas.pydata.org/pandas-docs/stable/user_guide/indexing.html#returning-a-view-versus-a-copy\n",
      "  df_address[\"newLogradouro\"][i] = pageRequestGetAdress[0][\"logradouro\"]\n",
      "<ipython-input-24-8df2be7a3e15>:73: SettingWithCopyWarning: \n",
      "A value is trying to be set on a copy of a slice from a DataFrame\n",
      "\n",
      "See the caveats in the documentation: https://pandas.pydata.org/pandas-docs/stable/user_guide/indexing.html#returning-a-view-versus-a-copy\n",
      "  df_address[\"newComplemento\"][i] = pageRequestGetAdress[0][\"complemento\"]\n",
      "<ipython-input-24-8df2be7a3e15>:74: SettingWithCopyWarning: \n",
      "A value is trying to be set on a copy of a slice from a DataFrame\n",
      "\n",
      "See the caveats in the documentation: https://pandas.pydata.org/pandas-docs/stable/user_guide/indexing.html#returning-a-view-versus-a-copy\n",
      "  df_address[\"newBairro\"][i] = pageRequestGetAdress[0][\"bairro\"]\n",
      "<ipython-input-24-8df2be7a3e15>:75: SettingWithCopyWarning: \n",
      "A value is trying to be set on a copy of a slice from a DataFrame\n",
      "\n",
      "See the caveats in the documentation: https://pandas.pydata.org/pandas-docs/stable/user_guide/indexing.html#returning-a-view-versus-a-copy\n",
      "  df_address[\"newCidade\"][i] = pageRequestGetAdress[0][\"localidade\"]\n",
      "<ipython-input-24-8df2be7a3e15>:76: SettingWithCopyWarning: \n",
      "A value is trying to be set on a copy of a slice from a DataFrame\n",
      "\n",
      "See the caveats in the documentation: https://pandas.pydata.org/pandas-docs/stable/user_guide/indexing.html#returning-a-view-versus-a-copy\n",
      "  df_address[\"newEstado\"][i] = pageRequestGetAdress[0][\"uf\"]\n",
      "<ipython-input-24-8df2be7a3e15>:77: SettingWithCopyWarning: \n",
      "A value is trying to be set on a copy of a slice from a DataFrame\n",
      "\n",
      "See the caveats in the documentation: https://pandas.pydata.org/pandas-docs/stable/user_guide/indexing.html#returning-a-view-versus-a-copy\n",
      "  df_address[\"newStatus\"][i] = \"SUCESSO:\"\n",
      "<ipython-input-24-8df2be7a3e15>:78: SettingWithCopyWarning: \n",
      "A value is trying to be set on a copy of a slice from a DataFrame\n",
      "\n",
      "See the caveats in the documentation: https://pandas.pydata.org/pandas-docs/stable/user_guide/indexing.html#returning-a-view-versus-a-copy\n",
      "  df_address[\"newMessage\"][i] = \"Sucesso: Dados localizados com sucesso.\"\n",
      "<ipython-input-24-8df2be7a3e15>:84: SettingWithCopyWarning: \n",
      "A value is trying to be set on a copy of a slice from a DataFrame\n",
      "\n",
      "See the caveats in the documentation: https://pandas.pydata.org/pandas-docs/stable/user_guide/indexing.html#returning-a-view-versus-a-copy\n",
      "  df_address[\"newCEP\"][i] = fnc_AdjustCepBody(pageRequest[\"cep\"])\n",
      "<ipython-input-24-8df2be7a3e15>:85: SettingWithCopyWarning: \n",
      "A value is trying to be set on a copy of a slice from a DataFrame\n",
      "\n",
      "See the caveats in the documentation: https://pandas.pydata.org/pandas-docs/stable/user_guide/indexing.html#returning-a-view-versus-a-copy\n",
      "  df_address[\"newLogradouro\"][i] = pageRequest[\"logradouro\"]\n",
      "<ipython-input-24-8df2be7a3e15>:86: SettingWithCopyWarning: \n",
      "A value is trying to be set on a copy of a slice from a DataFrame\n",
      "\n",
      "See the caveats in the documentation: https://pandas.pydata.org/pandas-docs/stable/user_guide/indexing.html#returning-a-view-versus-a-copy\n",
      "  df_address[\"newComplemento\"][i] = pageRequest[\"complemento\"]\n",
      "<ipython-input-24-8df2be7a3e15>:87: SettingWithCopyWarning: \n",
      "A value is trying to be set on a copy of a slice from a DataFrame\n",
      "\n",
      "See the caveats in the documentation: https://pandas.pydata.org/pandas-docs/stable/user_guide/indexing.html#returning-a-view-versus-a-copy\n",
      "  df_address[\"newBairro\"][i] = pageRequest[\"bairro\"]\n",
      "<ipython-input-24-8df2be7a3e15>:88: SettingWithCopyWarning: \n",
      "A value is trying to be set on a copy of a slice from a DataFrame\n",
      "\n",
      "See the caveats in the documentation: https://pandas.pydata.org/pandas-docs/stable/user_guide/indexing.html#returning-a-view-versus-a-copy\n",
      "  df_address[\"newCidade\"][i] = pageRequest[\"localidade\"]\n",
      "<ipython-input-24-8df2be7a3e15>:89: SettingWithCopyWarning: \n",
      "A value is trying to be set on a copy of a slice from a DataFrame\n",
      "\n",
      "See the caveats in the documentation: https://pandas.pydata.org/pandas-docs/stable/user_guide/indexing.html#returning-a-view-versus-a-copy\n",
      "  df_address[\"newEstado\"][i] = pageRequest[\"uf\"]\n",
      "<ipython-input-24-8df2be7a3e15>:90: SettingWithCopyWarning: \n",
      "A value is trying to be set on a copy of a slice from a DataFrame\n",
      "\n",
      "See the caveats in the documentation: https://pandas.pydata.org/pandas-docs/stable/user_guide/indexing.html#returning-a-view-versus-a-copy\n",
      "  df_address[\"newStatus\"][i] = \"SUCESSO:\"\n",
      "<ipython-input-24-8df2be7a3e15>:91: SettingWithCopyWarning: \n",
      "A value is trying to be set on a copy of a slice from a DataFrame\n",
      "\n",
      "See the caveats in the documentation: https://pandas.pydata.org/pandas-docs/stable/user_guide/indexing.html#returning-a-view-versus-a-copy\n",
      "  df_address[\"newMessage\"][i] = \"Sucesso: Dados localizados com sucesso.\"\n",
      "<ipython-input-24-8df2be7a3e15>:56: SettingWithCopyWarning: \n",
      "A value is trying to be set on a copy of a slice from a DataFrame\n",
      "\n",
      "See the caveats in the documentation: https://pandas.pydata.org/pandas-docs/stable/user_guide/indexing.html#returning-a-view-versus-a-copy\n",
      "  df_address[\"newStatus\"][i] = \"\"\n",
      "<ipython-input-24-8df2be7a3e15>:57: SettingWithCopyWarning: \n",
      "A value is trying to be set on a copy of a slice from a DataFrame\n",
      "\n",
      "See the caveats in the documentation: https://pandas.pydata.org/pandas-docs/stable/user_guide/indexing.html#returning-a-view-versus-a-copy\n",
      "  df_address[\"newMessage\"][i] = \"ERRO: CEP nao localizado, verifique o CPF da base.\"\n",
      "<ipython-input-24-8df2be7a3e15>:65: SettingWithCopyWarning: \n",
      "A value is trying to be set on a copy of a slice from a DataFrame\n",
      "\n",
      "See the caveats in the documentation: https://pandas.pydata.org/pandas-docs/stable/user_guide/indexing.html#returning-a-view-versus-a-copy\n",
      "  df_address[\"newStatus\"][i] = \"ATENCAO\"\n",
      "<ipython-input-24-8df2be7a3e15>:66: SettingWithCopyWarning: \n",
      "A value is trying to be set on a copy of a slice from a DataFrame\n",
      "\n",
      "See the caveats in the documentation: https://pandas.pydata.org/pandas-docs/stable/user_guide/indexing.html#returning-a-view-versus-a-copy\n",
      "  df_address[\"newMessage\"][i] = \"ATENCAO: Foram retornados varios enderecos.\"\n"
     ]
    }
   ],
   "source": [
    "# Local variabels\n",
    "pageRequest = \"\"\n",
    "pageRequestGetAdress = \"\"\n",
    "cpfCorrectShape = \"\"\n",
    "\n",
    "# Let´s see the dataframe b\n",
    "for i in range(len(df_address)): \n",
    "    \n",
    "    try:\n",
    "    \n",
    "        # Let´s to set a dataFrame CPF in local variable\n",
    "        cpfCorrectShape = fnc_AdjustCepBody(str(df_address[\"cep\"][i])[:8])\n",
    "        \n",
    "    except Exception as e:\n",
    "        \n",
    "        # Let´s print the message error\n",
    "        print(str(e))\n",
    "        \n",
    "    else:\n",
    "\n",
    "        # Let´s check if some exeption will happen\n",
    "        try:\n",
    "\n",
    "            # Let´s search the CEP, consuming the API\n",
    "            pageRequest = fnc_GetCEP(cpfCorrectShape)\n",
    "\n",
    "        # Some exception happened\n",
    "        except Exception as e:\n",
    "            \n",
    "            # let´s to insert the new values in the dataFrame\n",
    "            df_address[\"newStatus\"][i] == \"ERRO API: \" + str(e)\n",
    "\n",
    "        # No exception happened\n",
    "        else:\n",
    "\n",
    "            # let´s validade the JSON returns\n",
    "            if (\"erro\" in pageRequest):\n",
    "                \n",
    "                try:\n",
    "                               \n",
    "                    # Let´s try to search the CEP trough Address\n",
    "                    pageRequestGetAdress = fnc_getCepByAddress(fnc_AdjustAddressString(str(df_address[\"logradouro\"][i])))\n",
    "                \n",
    "                except Exception as e:\n",
    "                \n",
    "                    #let´s to insert the new values in the dataFrame\n",
    "                    df_address[\"newStatus\"][i] = \"\"\n",
    "                    df_address[\"newMessage\"][i] = \"ERRO API: \" + str(e)\n",
    "                \n",
    "                else:\n",
    "                    \n",
    "                    # let´s validade the JSON returns\n",
    "                    if (\"erro\" in pageRequestGetAdress or len(pageRequestGetAdress) == 0):\n",
    "                        \n",
    "                        # let´s to insert the new values in the dataFrame\n",
    "                        df_address[\"newStatus\"][i] = \"\"\n",
    "                        df_address[\"newMessage\"][i] = \"ERRO: CEP nao localizado, verifique o CPF da base.\"\n",
    "                        \n",
    "                    else:\n",
    "                        \n",
    "                        # Let´s check if more than one address was returnd\n",
    "                        if len(pageRequestGetAdress) > 1:\n",
    "                            \n",
    "                            # let´s to insert the new values in the dataFrame\n",
    "                            df_address[\"newStatus\"][i] = \"ATENCAO\"\n",
    "                            df_address[\"newMessage\"][i] = \"ATENCAO: Foram retornados varios enderecos.\"\n",
    "                            \n",
    "                        else:\n",
    "                        \n",
    "                            # let´s to insert the new values in the dataFrame\n",
    "                            df_address[\"newCEP\"][i] = fnc_AdjustCepBody(pageRequestGetAdress[0][\"cep\"])\n",
    "                            df_address[\"newLogradouro\"][i] = pageRequestGetAdress[0][\"logradouro\"]\n",
    "                            df_address[\"newComplemento\"][i] = pageRequestGetAdress[0][\"complemento\"]\n",
    "                            df_address[\"newBairro\"][i] = pageRequestGetAdress[0][\"bairro\"]\n",
    "                            df_address[\"newCidade\"][i] = pageRequestGetAdress[0][\"localidade\"]\n",
    "                            df_address[\"newEstado\"][i] = pageRequestGetAdress[0][\"uf\"]\n",
    "                            df_address[\"newStatus\"][i] = \"SUCESSO:\"\n",
    "                            df_address[\"newMessage\"][i] = \"Sucesso: Dados localizados com sucesso.\"\n",
    "\n",
    "            # Let´s to insert the CEPs information in our dataframe\n",
    "            else:\n",
    "                \n",
    "                # let´s to insert the new values in the dataFrame\n",
    "                df_address[\"newCEP\"][i] = fnc_AdjustCepBody(pageRequest[\"cep\"])\n",
    "                df_address[\"newLogradouro\"][i] = pageRequest[\"logradouro\"]\n",
    "                df_address[\"newComplemento\"][i] = pageRequest[\"complemento\"]\n",
    "                df_address[\"newBairro\"][i] = pageRequest[\"bairro\"]\n",
    "                df_address[\"newCidade\"][i] = pageRequest[\"localidade\"]\n",
    "                df_address[\"newEstado\"][i] = pageRequest[\"uf\"]\n",
    "                df_address[\"newStatus\"][i] = \"SUCESSO:\"\n",
    "                df_address[\"newMessage\"][i] = \"Sucesso: Dados localizados com sucesso.\""
   ]
  },
  {
   "cell_type": "code",
   "execution_count": 25,
   "id": "07244e06",
   "metadata": {},
   "outputs": [
    {
     "name": "stdout",
     "output_type": "stream",
     "text": [
      "Arquivo exportado com sucesso\n"
     ]
    }
   ],
   "source": [
    "# Let´s export our dataFrame to a CSV file\n",
    "msgInformation = fnc_exportsDfToCsv(df_address,\"base_CEP_Tratada\")\n",
    "\n",
    "if msgInformation == \"OK\":\n",
    "    print(\"Arquivo exportado com sucesso\")\n",
    "else:\n",
    "    print(\"Erro: {error}\".format(error = str(msgInformation)))"
   ]
  }
 ],
 "metadata": {
  "kernelspec": {
   "display_name": "Python 3",
   "language": "python",
   "name": "python3"
  },
  "language_info": {
   "codemirror_mode": {
    "name": "ipython",
    "version": 3
   },
   "file_extension": ".py",
   "mimetype": "text/x-python",
   "name": "python",
   "nbconvert_exporter": "python",
   "pygments_lexer": "ipython3",
   "version": "3.8.8"
  }
 },
 "nbformat": 4,
 "nbformat_minor": 5
}
