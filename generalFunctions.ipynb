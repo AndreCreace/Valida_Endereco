{
 "cells": [
  {
   "cell_type": "markdown",
   "id": "1258b50f",
   "metadata": {},
   "source": [
    "# General Functions"
   ]
  },
  {
   "cell_type": "code",
   "execution_count": 36,
   "id": "d93c6c63",
   "metadata": {},
   "outputs": [],
   "source": [
    "# Library to work with APIs\n",
    "from bs4 import BeautifulSoup \n",
    "import requests\n",
    "\n",
    "# Library to work Regular Expressions\n",
    "import re\n",
    "\n",
    "# Library to work with date\n",
    "from datetime import datetime"
   ]
  },
  {
   "cell_type": "code",
   "execution_count": 25,
   "id": "af250e0d",
   "metadata": {},
   "outputs": [],
   "source": [
    "# Funtion to return all adrress basead in CEP\\n\",\n",
    "def fnc_GetCEP(strCEP):\n",
    "    page = requests.get(\"https://viacep.com.br/ws/{}/json/\".format(strCEP))\n",
    "    return page.json()"
   ]
  },
  {
   "cell_type": "code",
   "execution_count": 30,
   "id": "dada4007",
   "metadata": {},
   "outputs": [],
   "source": [
    "# Funciton to return adrress basead in public place\n",
    "def fnc_getCepByAddress(strAddress):\n",
    "    page = requests.get(\"https://viacep.com.br/ws/SP/Valinhos/{}/json/\".format(strAddress))\n",
    "    return page.json()"
   ]
  },
  {
   "cell_type": "code",
   "execution_count": 31,
   "id": "add0d49d",
   "metadata": {},
   "outputs": [],
   "source": [
    "# Function to replace caracters\n",
    "def fnc_AdjustCepBody(strCEP):\n",
    "    \n",
    "    # Local variables\n",
    "    strCEP = strCEP.strip()\n",
    "        \n",
    "    ############################ Regular Expressions ###################################\n",
    "    \n",
    "    # Patterns\n",
    "    lstPatterns = [\".\",\"-\",\"/\"]\n",
    "    \n",
    "    # Let´s check the patterns\n",
    "    for pattern in lstPatterns:\n",
    "        \n",
    "        # If the pattern was found\n",
    "        if re.search(pattern, strCEP):\n",
    "            \n",
    "            # Let´s do the replace\n",
    "            strCEP = strCEP.replace(pattern, \"\")\n",
    "            \n",
    "    ############################ String Size ###########################################\n",
    "    if len(strCEP) != 8:\n",
    "        strCEP = \"00000000\"\n",
    "    \n",
    "    # Funtion Returns\n",
    "    return strCEP.strip()"
   ]
  },
  {
   "cell_type": "code",
   "execution_count": 28,
   "id": "068494aa",
   "metadata": {},
   "outputs": [],
   "source": [
    "# Function to handle the Address String\n",
    "def fnc_AdjustAddressString(strAddress):\n",
    "    \n",
    "    # Local Variable\n",
    "    strAddressReturn = strAddress.lower().strip()\n",
    "    \n",
    "    # Patterns\n",
    "    lstPatterns = [\"rua\", \"r.\", \"r. \", \"r \", \"avenida\", \"av.\", \"av. \", \"av \", \"alameda\"]\n",
    "    \n",
    "    # Let´s check the patterns\n",
    "    for pattern in lstPatterns:\n",
    "        \n",
    "        # If the pattern was foundS\n",
    "        if re.search(pattern, strAddressReturn):\n",
    "            \n",
    "            # Let´s do the replace\n",
    "            strAddressReturn = strAddressReturn.replace(pattern, \"\")\n",
    "            \n",
    "    # Funcition returns\n",
    "    return strAddressReturn.strip()"
   ]
  },
  {
   "cell_type": "code",
   "execution_count": 44,
   "id": "b92b7c21",
   "metadata": {},
   "outputs": [],
   "source": [
    "# Function to export a dataframe to CSV file\n",
    "def fnc_exportsDfToCsv(dataFrame, fileName):\n",
    "    \n",
    "    # local Variables\n",
    "    controlExport = \"OK\"\n",
    "    fileName += \"-\" + str(datetime.today().strftime('%Y-%m-%d')) + \".csv\"\n",
    "    \n",
    "    try:\n",
    "        \n",
    "        # let´s export to CSV\n",
    "        dataFrame.to_csv(\"dataOut/\" + fileName, sep='\\t', encoding='utf-8')\n",
    "                \n",
    "    except Exception as e:\n",
    "        \n",
    "        # Set value in variable\n",
    "        controlExport = \" Erro ao exportar o dataFrame para CSV. \" + str(e)\n",
    "        \n",
    "    finally:\n",
    "        \n",
    "        # Function returns\n",
    "        return controlExport        "
   ]
  }
 ],
 "metadata": {
  "kernelspec": {
   "display_name": "Python 3",
   "language": "python",
   "name": "python3"
  },
  "language_info": {
   "codemirror_mode": {
    "name": "ipython",
    "version": 3
   },
   "file_extension": ".py",
   "mimetype": "text/x-python",
   "name": "python",
   "nbconvert_exporter": "python",
   "pygments_lexer": "ipython3",
   "version": "3.8.8"
  }
 },
 "nbformat": 4,
 "nbformat_minor": 5
}
